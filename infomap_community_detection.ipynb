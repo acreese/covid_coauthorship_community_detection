{
 "cells": [
  {
   "cell_type": "markdown",
   "id": "be689105",
   "metadata": {},
   "source": [
    "# Infomap Community Detection"
   ]
  },
  {
   "cell_type": "code",
   "execution_count": 57,
   "id": "49bda40e",
   "metadata": {},
   "outputs": [],
   "source": [
    "import pandas as pd\n",
    "import fractions\n",
    "import igraph as ig\n",
    "import networkx as nx\n",
    "import random\n",
    "import matplotlib.pyplot as plt"
   ]
  },
  {
   "cell_type": "markdown",
   "id": "urban-arrangement",
   "metadata": {},
   "source": [
    "### NetworkX Graph Creation"
   ]
  },
  {
   "cell_type": "markdown",
   "id": "featured-crest",
   "metadata": {},
   "source": [
    "Creation with edge attributes, no dataframe tweaking needed"
   ]
  },
  {
   "cell_type": "code",
   "execution_count": 108,
   "id": "bound-psychiatry",
   "metadata": {},
   "outputs": [
    {
     "data": {
      "text/html": [
       "<div>\n",
       "<style scoped>\n",
       "    .dataframe tbody tr th:only-of-type {\n",
       "        vertical-align: middle;\n",
       "    }\n",
       "\n",
       "    .dataframe tbody tr th {\n",
       "        vertical-align: top;\n",
       "    }\n",
       "\n",
       "    .dataframe thead th {\n",
       "        text-align: right;\n",
       "    }\n",
       "</style>\n",
       "<table border=\"1\" class=\"dataframe\">\n",
       "  <thead>\n",
       "    <tr style=\"text-align: right;\">\n",
       "      <th></th>\n",
       "      <th>Author ID</th>\n",
       "      <th>Name</th>\n",
       "      <th>Country</th>\n",
       "      <th>Author Publication Count</th>\n",
       "      <th>Publication Coauthors</th>\n",
       "      <th>Coauthor ID</th>\n",
       "    </tr>\n",
       "  </thead>\n",
       "  <tbody>\n",
       "    <tr>\n",
       "      <th>0</th>\n",
       "      <td>88660066</td>\n",
       "      <td>Antinori, A</td>\n",
       "      <td>Italy</td>\n",
       "      <td>1</td>\n",
       "      <td>13</td>\n",
       "      <td>88687508</td>\n",
       "    </tr>\n",
       "    <tr>\n",
       "      <th>1</th>\n",
       "      <td>88693999</td>\n",
       "      <td>Antinori, A</td>\n",
       "      <td>Italy</td>\n",
       "      <td>1</td>\n",
       "      <td>13</td>\n",
       "      <td>88687508</td>\n",
       "    </tr>\n",
       "    <tr>\n",
       "      <th>2</th>\n",
       "      <td>88696885</td>\n",
       "      <td>Antinori, A</td>\n",
       "      <td>Italy</td>\n",
       "      <td>1</td>\n",
       "      <td>13</td>\n",
       "      <td>88687508</td>\n",
       "    </tr>\n",
       "    <tr>\n",
       "      <th>3</th>\n",
       "      <td>88696886</td>\n",
       "      <td>Antinori, A</td>\n",
       "      <td>Italy</td>\n",
       "      <td>1</td>\n",
       "      <td>13</td>\n",
       "      <td>88687508</td>\n",
       "    </tr>\n",
       "    <tr>\n",
       "      <th>4</th>\n",
       "      <td>88693998</td>\n",
       "      <td>Antinori, A</td>\n",
       "      <td>Italy</td>\n",
       "      <td>1</td>\n",
       "      <td>13</td>\n",
       "      <td>88687508</td>\n",
       "    </tr>\n",
       "  </tbody>\n",
       "</table>\n",
       "</div>"
      ],
      "text/plain": [
       "   Author ID         Name Country  Author Publication Count  \\\n",
       "0   88660066  Antinori, A   Italy                         1   \n",
       "1   88693999  Antinori, A   Italy                         1   \n",
       "2   88696885  Antinori, A   Italy                         1   \n",
       "3   88696886  Antinori, A   Italy                         1   \n",
       "4   88693998  Antinori, A   Italy                         1   \n",
       "\n",
       "   Publication Coauthors  Coauthor ID  \n",
       "0                     13     88687508  \n",
       "1                     13     88687508  \n",
       "2                     13     88687508  \n",
       "3                     13     88687508  \n",
       "4                     13     88687508  "
      ]
     },
     "execution_count": 108,
     "metadata": {},
     "output_type": "execute_result"
    }
   ],
   "source": [
    "edge_df = pd.read_csv('data/coauthor_edge_list.csv')\n",
    "edge_df.head()"
   ]
  },
  {
   "cell_type": "code",
   "execution_count": 107,
   "id": "5a107a5a",
   "metadata": {},
   "outputs": [
    {
     "name": "stdout",
     "output_type": "stream",
     "text": [
      "Graph with 260637 nodes and 2024546 edges\n"
     ]
    }
   ],
   "source": [
    "G_nx = nx.from_pandas_edgelist(edge_df, source='Author ID', target=\"Coauthor ID\", edge_attr='Publication Coauthors')\n",
    "print(nx.info(G_nx))"
   ]
  },
  {
   "cell_type": "code",
   "execution_count": 100,
   "id": "geographic-memphis",
   "metadata": {},
   "outputs": [
    {
     "name": "stdout",
     "output_type": "stream",
     "text": [
      "Graph with 260637 nodes and 2024546 edges\n"
     ]
    }
   ],
   "source": [
    "print(nx.info(G_nx))"
   ]
  },
  {
   "cell_type": "markdown",
   "id": "de39252c",
   "metadata": {},
   "source": [
    "#### Arranging *node* data for Graph\n",
    "Using the dictionary of Coauthors, isolate node data with feature/attribute: Name, Country, PubNum (total number of each author's COVID-19 publications)"
   ]
  },
  {
   "cell_type": "code",
   "execution_count": 115,
   "id": "advisory-invasion",
   "metadata": {},
   "outputs": [
    {
     "data": {
      "text/html": [
       "<div>\n",
       "<style scoped>\n",
       "    .dataframe tbody tr th:only-of-type {\n",
       "        vertical-align: middle;\n",
       "    }\n",
       "\n",
       "    .dataframe tbody tr th {\n",
       "        vertical-align: top;\n",
       "    }\n",
       "\n",
       "    .dataframe thead th {\n",
       "        text-align: right;\n",
       "    }\n",
       "</style>\n",
       "<table border=\"1\" class=\"dataframe\">\n",
       "  <thead>\n",
       "    <tr style=\"text-align: right;\">\n",
       "      <th></th>\n",
       "      <th>Name</th>\n",
       "      <th>Country</th>\n",
       "      <th>Author Publication Count</th>\n",
       "    </tr>\n",
       "  </thead>\n",
       "  <tbody>\n",
       "    <tr>\n",
       "      <th>88687508</th>\n",
       "      <td>Antinori, A</td>\n",
       "      <td>Italy</td>\n",
       "      <td>1</td>\n",
       "    </tr>\n",
       "    <tr>\n",
       "      <th>88660066</th>\n",
       "      <td>Notari, S</td>\n",
       "      <td>Italy</td>\n",
       "      <td>1</td>\n",
       "    </tr>\n",
       "    <tr>\n",
       "      <th>88693999</th>\n",
       "      <td>Cicalini, Stefania</td>\n",
       "      <td>Italy</td>\n",
       "      <td>2</td>\n",
       "    </tr>\n",
       "    <tr>\n",
       "      <th>88696885</th>\n",
       "      <td>Agrati, Chiara</td>\n",
       "      <td>Italy</td>\n",
       "      <td>12</td>\n",
       "    </tr>\n",
       "    <tr>\n",
       "      <th>88696886</th>\n",
       "      <td>Campioni, Paolo</td>\n",
       "      <td>Italy</td>\n",
       "      <td>2</td>\n",
       "    </tr>\n",
       "  </tbody>\n",
       "</table>\n",
       "</div>"
      ],
      "text/plain": [
       "                        Name Country  Author Publication Count\n",
       "88687508         Antinori, A   Italy                         1\n",
       "88660066           Notari, S   Italy                         1\n",
       "88693999  Cicalini, Stefania   Italy                         2\n",
       "88696885      Agrati, Chiara   Italy                        12\n",
       "88696886     Campioni, Paolo   Italy                         2"
      ]
     },
     "execution_count": 115,
     "metadata": {},
     "output_type": "execute_result"
    }
   ],
   "source": [
    "node_df = pd.read_csv('data/author_node_list.csv', index_col=0)\n",
    "node_df.head()"
   ]
  },
  {
   "cell_type": "markdown",
   "id": "8abfc11e",
   "metadata": {},
   "source": [
    "Creating dictionaries of this data and add to network as node attributes"
   ]
  },
  {
   "cell_type": "code",
   "execution_count": 116,
   "id": "13074f42",
   "metadata": {},
   "outputs": [],
   "source": [
    "node_dict = node_df.to_dict(orient='dict')\n",
    "node_dict_name = node_dict['Name']\n",
    "node_dict_pubtotal = node_dict['Author Publication Count']\n",
    "node_dict_country = node_dict['Country']"
   ]
  },
  {
   "cell_type": "code",
   "execution_count": 117,
   "id": "failing-madrid",
   "metadata": {},
   "outputs": [],
   "source": [
    "# Adding note attributes\n",
    "nx.set_node_attributes(G_nx, node_dict_name, name='Name')\n",
    "nx.set_node_attributes(G_nx, node_dict_pubtotal, name='Author Pub Count')\n",
    "nx.set_node_attributes(G_nx, node_dict_country, name='Country')"
   ]
  },
  {
   "cell_type": "markdown",
   "id": "passive-thesaurus",
   "metadata": {},
   "source": [
    "### Conversion to iGraph \n",
    "(creation of igraph directly from dataframe lead to a very low modularity score (~0.07) of communities)"
   ]
  },
  {
   "cell_type": "code",
   "execution_count": 119,
   "id": "76edf163",
   "metadata": {},
   "outputs": [],
   "source": [
    "G_ig = ig.Graph.from_networkx(G_nx)"
   ]
  },
  {
   "cell_type": "code",
   "execution_count": 120,
   "id": "b77090b5",
   "metadata": {
    "scrolled": true
   },
   "outputs": [
    {
     "name": "stdout",
     "output_type": "stream",
     "text": [
      "IGRAPH U--- 260637 2024546 -- \n",
      "+ attr: Author Pub Count (v), Country (v), Name (v), _nx_name (v), Publication Coauthors (e)\n"
     ]
    }
   ],
   "source": [
    "print(G_ig.summary())"
   ]
  },
  {
   "cell_type": "markdown",
   "id": "virgin-password",
   "metadata": {},
   "source": [
    "## Infomap Community Detection"
   ]
  },
  {
   "cell_type": "code",
   "execution_count": 121,
   "id": "558b9cf6",
   "metadata": {},
   "outputs": [
    {
     "name": "stdout",
     "output_type": "stream",
     "text": [
      "Clustering with 260637 elements and 23797 clusters\n",
      "0.8715941275568821\n"
     ]
    }
   ],
   "source": [
    "random.seed(123)\n",
    "c_infomap = G_ig.community_infomap(trials=4)\n",
    "print(c_infomap.summary())\n",
    "print(c_infomap.modularity)"
   ]
  },
  {
   "cell_type": "markdown",
   "id": "compressed-floating",
   "metadata": {},
   "source": [
    "### Plotting Infomap Communities"
   ]
  },
  {
   "cell_type": "markdown",
   "id": "received-windows",
   "metadata": {},
   "source": [
    "plot the community sizes"
   ]
  },
  {
   "cell_type": "code",
   "execution_count": 49,
   "id": "3d6ca879",
   "metadata": {
    "scrolled": false
   },
   "outputs": [
    {
     "data": {
      "image/png": "[encoded data removed]",
      "text/plain": [
       "<Figure size 1152x288 with 1 Axes>"
      ]
     },
     "metadata": {
      "needs_background": "light"
     },
     "output_type": "display_data"
    }
   ],
   "source": [
    "infomap_sizes = c_infomap.sizes()\n",
    "#infomap_sizes.sort(reverse=True)\n",
    "plt.figure(figsize=(16,4))\n",
    "plt.title(\"Infomap community sizes\")\n",
    "plt.xlabel(\"community id\")\n",
    "plt.ylabel(\"number of nodes\")\n",
    "plt.bar(list(range(1, len(infomap_sizes) + 1)), infomap_sizes)\n",
    "plt.show()"
   ]
  },
  {
   "cell_type": "markdown",
   "id": "victorian-natural",
   "metadata": {},
   "source": [
    "plot the distribution (historgram) of community sizes"
   ]
  },
  {
   "cell_type": "code",
   "execution_count": 39,
   "id": "floating-johnston",
   "metadata": {
    "scrolled": false
   },
   "outputs": [
    {
     "data": {
      "image/png": "[encoded data removed]",
      "text/plain": [
       "<Figure size 1080x360 with 1 Axes>"
      ]
     },
     "metadata": {
      "needs_background": "light"
     },
     "output_type": "display_data"
    }
   ],
   "source": [
    "infomap_sizes = c_infomap.sizes()\n",
    "\n",
    "infomap_hist = []\n",
    "for i in range(min(infomap_sizes), max(infomap_sizes)):\n",
    "    count = infomap_sizes.count(i)\n",
    "    infomap_hist.append(count)\n",
    "    \n",
    "#infomap_sizes.sort(reverse=True)\n",
    "plt.figure(figsize=(16,5))\n",
    "plt.title(\"Infomap community sizes\")\n",
    "plt.xlabel(\"community size\")\n",
    "plt.ylabel(\"number of communities\")\n",
    "plt.bar(list(range(min(infomap_sizes), max(infomap_sizes))), infomap_hist)\n",
    "plt.show()"
   ]
  },
  {
   "cell_type": "markdown",
   "id": "binary-martial",
   "metadata": {},
   "source": [
    "## Store node community membership"
   ]
  },
  {
   "cell_type": "markdown",
   "id": "3100b9a0",
   "metadata": {},
   "source": [
    "Create Dictionary of Infomap community membership for later comparisons with GraphSAGE clustering"
   ]
  },
  {
   "cell_type": "code",
   "execution_count": 133,
   "id": "88c55cbd",
   "metadata": {},
   "outputs": [],
   "source": [
    "infomap_id_dict = dict(zip(list(G_nx.nodes()), c_infomap.membership))"
   ]
  },
  {
   "cell_type": "code",
   "execution_count": 136,
   "id": "african-beverage",
   "metadata": {},
   "outputs": [],
   "source": [
    "infomap_id_df = pd.DataFrame.from_dict(infomap_id_dict, orient='index')\n",
    "infomap_id_df.to_csv('data/infomap_community_id.csv', index=True)"
   ]
  },
  {
   "cell_type": "markdown",
   "id": "c4dbc080",
   "metadata": {},
   "source": [
    "### Visualizing a single community cluster\n",
    "apply Infomap membership to original networkx Graph as a node attribute"
   ]
  },
  {
   "cell_type": "code",
   "execution_count": 124,
   "id": "6f12883b",
   "metadata": {},
   "outputs": [],
   "source": [
    "nx.set_node_attributes(G_nx, infomap_com_dict, \"c_infomap\")"
   ]
  },
  {
   "cell_type": "code",
   "execution_count": 125,
   "id": "2c436474",
   "metadata": {},
   "outputs": [
    {
     "name": "stdout",
     "output_type": "stream",
     "text": [
      "Graph with 10 nodes and 25 edges\n"
     ]
    }
   ],
   "source": [
    "com_id = 12 # select the community id\n",
    "\n",
    "# extraction of a subgraph from the nodes in this community\n",
    "com_g = G_nx.subgraph(\n",
    "    [n for n, attrdict in G_nx.nodes.items() if attrdict[\"c_infomap\"] == com_id]\n",
    ")\n",
    "print(nx.info(com_g))"
   ]
  },
  {
   "cell_type": "markdown",
   "id": "70622e61",
   "metadata": {},
   "source": [
    "Creating label dictionaries for community structure plot"
   ]
  },
  {
   "cell_type": "code",
   "execution_count": 126,
   "id": "a05eb1e2",
   "metadata": {},
   "outputs": [],
   "source": [
    "name_labels = nx.get_node_attributes(com_g, 'Name')\n",
    "country_labels = nx.get_node_attributes(com_g, 'Country')\n",
    "labels_combined = {}\n",
    "for i in name_labels:\n",
    "    labels_combined[i] = str(name_labels[i]) + \"\\n\" + str(country_labels[i])"
   ]
  },
  {
   "cell_type": "markdown",
   "id": "enormous-bullet",
   "metadata": {},
   "source": [
    "Plotting the community"
   ]
  },
  {
   "cell_type": "code",
   "execution_count": 127,
   "id": "1072e4d6",
   "metadata": {},
   "outputs": [
    {
     "data": {
      "image/png": "[encoded data removed]",
      "text/plain": [
       "<Figure size 720x576 with 1 Axes>"
      ]
     },
     "metadata": {},
     "output_type": "display_data"
    }
   ],
   "source": [
    "# plot community structure only\n",
    "pos = nx.random_layout(com_g, seed=123)\n",
    "plt.figure(figsize=(10, 8))\n",
    "nx.draw_networkx(com_g, pos, edge_color=\"#26282b\", node_color=\"red\", alpha=0.4, labels=labels_combined)\n",
    "plt.axis(\"off\")\n",
    "plt.show()"
   ]
  },
  {
   "cell_type": "code",
   "execution_count": null,
   "id": "ea9940ad",
   "metadata": {},
   "outputs": [],
   "source": []
  }
 ],
 "metadata": {
  "kernelspec": {
   "display_name": "Python 3",
   "language": "python",
   "name": "python3"
  },
  "language_info": {
   "codemirror_mode": {
    "name": "ipython",
    "version": 3
   },
   "file_extension": ".py",
   "mimetype": "text/x-python",
   "name": "python",
   "nbconvert_exporter": "python",
   "pygments_lexer": "ipython3",
   "version": "3.9.12"
  }
 },
 "nbformat": 4,
 "nbformat_minor": 5
}
